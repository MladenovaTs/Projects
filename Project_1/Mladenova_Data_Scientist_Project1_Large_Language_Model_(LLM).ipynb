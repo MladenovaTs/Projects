{
 "cells": [
  {
   "cell_type": "markdown",
   "id": "3c48ba32-d9ff-4cd5-bc48-9394b509e3cf",
   "metadata": {},
   "source": [
    "# This is an example notebook. To run it, you will need to provide your actual API key and ensure that the required data is available. Modify the code within the notebook accordingly to incorporate your API key and data source."
   ]
  },
  {
   "cell_type": "code",
   "execution_count": null,
   "id": "e4a800f1-8627-493b-b6a7-c2fd395b815d",
   "metadata": {},
   "outputs": [],
   "source": [
    "import pandas as pd\n",
    "import openai\n",
    "import requests"
   ]
  },
  {
   "cell_type": "code",
   "execution_count": null,
   "id": "2ea822ec-43db-40e0-9020-3176a33a3d0d",
   "metadata": {},
   "outputs": [],
   "source": [
    "# Import your data\n",
    "data = pd.read_csv('your/data/path/data.csv')"
   ]
  },
  {
   "cell_type": "code",
   "execution_count": null,
   "id": "557115c2-9a43-4bc6-aa54-7c6ecb5bb227",
   "metadata": {},
   "outputs": [],
   "source": [
    "# Define your OpenAI API key\n",
    "api_key = \"your_openai_api_key\""
   ]
  },
  {
   "cell_type": "code",
   "execution_count": null,
   "id": "27093b72-bad4-46a6-bb9c-a7f397c37297",
   "metadata": {},
   "outputs": [],
   "source": [
    "# Generate rows promt\n",
    "\n",
    "def generate_rows(prompt, max_tokens=100):\n",
    "    \"\"\"\n",
    "    Generate new rows based on the provided prompt using GPT-3.\n",
    "    \n",
    "    Args:\n",
    "    - prompt: The prompt or context provided by the user.\n",
    "    - max_tokens: Maximum number of tokens for the generated text.\n",
    "    \n",
    "    Returns:\n",
    "    - Generated rows as a string.\n",
    "    \"\"\"\n",
    "    headers = {\n",
    "        \"Content-Type\": \"application/json\",\n",
    "        \"Authorization\": f\"Bearer {api_key}\"\n",
    "    }\n",
    "    data = {\n",
    "        \"prompt\": prompt,\n",
    "        \"max_tokens\": max_tokens,\n",
    "        \"model\": \"text-davinci-002\" \n",
    "    }\n",
    "    response = requests.post(\"https://api.openai.com/v1/engines/davinci-002/completions\", json=data, headers=headers)\n",
    "    response.raise_for_status()\n",
    "    \n",
    "    return response.json()[\"choices\"][0][\"text\"].strip()"
   ]
  },
  {
   "cell_type": "code",
   "execution_count": null,
   "id": "18c89516-280a-4bd7-80e4-0fc5916b22d4",
   "metadata": {},
   "outputs": [],
   "source": [
    "# Define a prompt for generating new rows\n",
    "prompt = \"\"\"\n",
    "Generate new rows based on the existing data:\n",
    "\"\"\""
   ]
  },
  {
   "cell_type": "code",
   "execution_count": null,
   "id": "75e0e5ce-5a1e-4461-b6a5-0197af67bc1f",
   "metadata": {},
   "outputs": [],
   "source": [
    "# Generate new rows\n",
    "generated_rows = generate_rows(prompt, max_tokens=150)\n",
    "print(generated_rows)"
   ]
  }
 ],
 "metadata": {
  "kernelspec": {
   "display_name": "myenv",
   "language": "python",
   "name": "myenv"
  }
 },
 "nbformat": 4,
 "nbformat_minor": 5
}
